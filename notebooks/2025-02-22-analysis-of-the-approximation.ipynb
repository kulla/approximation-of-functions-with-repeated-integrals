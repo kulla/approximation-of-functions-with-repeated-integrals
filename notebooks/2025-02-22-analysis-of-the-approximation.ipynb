{
 "cells": [
  {
   "cell_type": "markdown",
   "id": "a05d48b8-9c4c-46ba-a31d-6c9696ff2471",
   "metadata": {},
   "source": [
    "# Analysis of the approximation\n",
    "\n",
    "Copyright 2025 Stephan Kulla (\"Kulla\")\n",
    "\n",
    "Licensed under the Apache License, Version 2.0 (the \"Apache License\") and Creative Commons Attribution 4.0 International (the \"CC-BY License\"). You may choose either of these licenses to govern your use of this project.\n",
    "\n",
    "You may obtain a copy of the Apache License at:\n",
    "    http://www.apache.org/licenses/LICENSE-2.0\n",
    "\n",
    "You may obtain a copy of the CC-BY License at:\n",
    "    https://creativecommons.org/licenses/by/4.0/\n",
    "\n",
    "Unless required by applicable law or agreed to in writing, software and content distributed under the Apache License is distributed on an \"AS IS\" BASIS, WITHOUT WARRANTIES OR CONDITIONS OF ANY KIND, either express or implied. See the Apache License for the specific language governing permissions and limitations under the License.\n",
    "\n",
    "Under the CC-BY License, you are free to share and adapt the material provided you give appropriate credit, provide a link to the license, and indicate if changes were made. See the CC-BY License for full details.\n",
    "\n",
    "Third-Party Components and Licenses:\n",
    "This product also includes third-party components which are distributed under their respective licenses. Please refer to the NOTICE file for details."
   ]
  },
  {
   "cell_type": "markdown",
   "id": "87465842-f7b0-4d85-b232-26a91f9e0a6d",
   "metadata": {},
   "source": [
    "## Utility functions and imports"
   ]
  },
  {
   "cell_type": "code",
   "execution_count": 1,
   "id": "a406b2c0-b7c2-4055-b929-34c359f7b869",
   "metadata": {},
   "outputs": [],
   "source": [
    "%load_ext jupyter_ai_magics"
   ]
  },
  {
   "cell_type": "code",
   "execution_count": 2,
   "id": "f2a3e879-d447-4e3e-8578-c917993a72c1",
   "metadata": {},
   "outputs": [],
   "source": [
    "%load_ext autoreload"
   ]
  },
  {
   "cell_type": "code",
   "execution_count": 4,
   "id": "359df978-6fa5-4219-8369-be0a5be91a55",
   "metadata": {},
   "outputs": [],
   "source": [
    "%autoreload 2"
   ]
  },
  {
   "cell_type": "code",
   "execution_count": 5,
   "id": "5a74b898-aea4-4d1e-9b69-8a94537bdf22",
   "metadata": {},
   "outputs": [],
   "source": [
    "import string\n",
    "import sympy as sp\n",
    "\n",
    "from IPython.display import display, Markdown\n",
    "\n",
    "class LatexFormatter(string.Formatter):\n",
    "    def format_field(self, value, format_spec):\n",
    "        if format_spec == 'tex':\n",
    "            return sp.printing.latex(value)\n",
    "        if format_spec == '$' or format_spec == 'inline':\n",
    "            return \"$\" + sp.printing.latex(value) + \"$\"\n",
    "        elif format_spec == '$$' or format_spec == 'block':\n",
    "            return \"$$\" + sp.printing.latex(value) + \"$$\"\n",
    "        else:\n",
    "            return super().format_field(value, format_spec)\n",
    "\n",
    "def disp_md(template, **kwargs):\n",
    "    display(Markdown(LatexFormatter().format(template, **kwargs)))"
   ]
  },
  {
   "cell_type": "markdown",
   "id": "f5516198-ea31-4384-b549-5e608261acf9",
   "metadata": {},
   "source": [
    "## Analysis"
   ]
  },
  {
   "cell_type": "code",
   "execution_count": 14,
   "id": "4ab54dea-e347-4885-b10b-32dacf4e3d8f",
   "metadata": {},
   "outputs": [
    {
     "data": {
      "text/latex": [
       "$\\displaystyle \\frac{\\sqrt{6} x \\left(- 26015238 \\sqrt{6} - 25078834 \\sqrt{6} \\cos{\\left(1 \\right)} + 47019316 \\sqrt{6} \\sin{\\left(1 \\right)}\\right)}{2} + \\frac{\\sqrt{10} \\left(\\frac{3 x^{2}}{2} - \\frac{1}{2}\\right) \\left(- 29745552 \\sqrt{10} \\sin{\\left(1 \\right)} + 15899312 \\sqrt{10} \\cos{\\left(1 \\right)} + 16439584 \\sqrt{10}\\right)}{2} + \\frac{\\sqrt{14} \\left(\\frac{5 x^{3}}{2} - \\frac{3 x}{2}\\right) \\left(- 7869728 \\sqrt{14} - 7653584 \\sqrt{14} \\cos{\\left(1 \\right)} + 14266656 \\sqrt{14} \\sin{\\left(1 \\right)}\\right)}{2} + \\frac{3 \\sqrt{2} \\left(\\frac{35 x^{4}}{8} - \\frac{15 x^{2}}{4} + \\frac{3}{8}\\right) \\left(- 14247840 \\sqrt{2} \\sin{\\left(1 \\right)} + 7690080 \\sqrt{2} \\cos{\\left(1 \\right)} + 7834176 \\sqrt{2}\\right)}{2} + \\frac{\\sqrt{22} \\left(- 470432 \\sqrt{22} - 470432 \\sqrt{22} \\cos{\\left(1 \\right)} + 861120 \\sqrt{22} \\sin{\\left(1 \\right)}\\right) \\left(\\frac{63 x^{5}}{8} - \\frac{35 x^{3}}{4} + \\frac{15 x}{8}\\right)}{2} + \\frac{\\sqrt{2} \\left(- 58637670 \\sqrt{2} \\sin{\\left(1 \\right)} + 31244786 \\sqrt{2} \\cos{\\left(1 \\right)} + 32460268 \\sqrt{2}\\right)}{2}$"
      ],
      "text/plain": [
       "sqrt(6)*x*(-26015238*sqrt(6) - 25078834*sqrt(6)*cos(1) + 47019316*sqrt(6)*sin(1))/2 + sqrt(10)*(3*x**2/2 - 1/2)*(-29745552*sqrt(10)*sin(1) + 15899312*sqrt(10)*cos(1) + 16439584*sqrt(10))/2 + sqrt(14)*(5*x**3/2 - 3*x/2)*(-7869728*sqrt(14) - 7653584*sqrt(14)*cos(1) + 14266656*sqrt(14)*sin(1))/2 + 3*sqrt(2)*(35*x**4/8 - 15*x**2/4 + 3/8)*(-14247840*sqrt(2)*sin(1) + 7690080*sqrt(2)*cos(1) + 7834176*sqrt(2))/2 + sqrt(22)*(-470432*sqrt(22) - 470432*sqrt(22)*cos(1) + 861120*sqrt(22)*sin(1))*(63*x**5/8 - 35*x**3/4 + 15*x/8)/2 + sqrt(2)*(-58637670*sqrt(2)*sin(1) + 31244786*sqrt(2)*cos(1) + 32460268*sqrt(2))/2"
      ]
     },
     "metadata": {},
     "output_type": "display_data"
    },
    {
     "data": {
      "text/latex": [
       "$\\displaystyle x^{5} \\left(-40751172 - 40751172 \\cos{\\left(1 \\right)} + 74594520 \\sin{\\left(1 \\right)}\\right) + x^{4} \\left(- 187002900 \\sin{\\left(1 \\right)} + 100932300 \\cos{\\left(1 \\right)} + 102823560\\right) + x^{3} \\left(-92441160 - 88658640 \\cos{\\left(1 \\right)} + 166783680 \\sin{\\left(1 \\right)}\\right) + x^{2} \\left(- 62803440 \\sin{\\left(1 \\right)} + 32731440 \\cos{\\left(1 \\right)} + 35162400\\right) + x \\left(-5116230 - 4576530 \\cos{\\left(1 \\right)} + 9018660 \\sin{\\left(1 \\right)}\\right) - 302610 \\sin{\\left(1 \\right)} + 147846 \\cos{\\left(1 \\right)} + 174756$"
      ],
      "text/plain": [
       "x**5*(-40751172 - 40751172*cos(1) + 74594520*sin(1)) + x**4*(-187002900*sin(1) + 100932300*cos(1) + 102823560) + x**3*(-92441160 - 88658640*cos(1) + 166783680*sin(1)) + x**2*(-62803440*sin(1) + 32731440*cos(1) + 35162400) + x*(-5116230 - 4576530*cos(1) + 9018660*sin(1)) - 302610*sin(1) + 147846*cos(1) + 174756"
      ]
     },
     "metadata": {},
     "output_type": "display_data"
    },
    {
     "data": {
      "text/plain": [
       "True"
      ]
     },
     "execution_count": 14,
     "metadata": {},
     "output_type": "execute_result"
    }
   ],
   "source": [
    "from sympy.abc import x,n\n",
    "from src.approximation import matrix_of\n",
    "from src.c_space import vectors, integral_forms\n",
    "\n",
    "def approximation(linear_forms, vectors, func):\n",
    "    matrix = matrix_of(linear_forms, vectors)\n",
    "    coefficients = matrix.solve(sp.Matrix([lf(func) for lf in linear_forms]))\n",
    "\n",
    "    return sum(coeff * basis for coeff, basis in zip(coefficients, vectors))\n",
    "\n",
    "a = approximation(integral_forms(sp.legendre(n, x)*sp.sqrt((2*n+1)/2), 5), vectors(sp.legendre(n, x)*sp.sqrt((2*n+1)/2), 5), sp.sin(x))\n",
    "b = approximation(integral_forms((1-x)**n/sp.factorial(n), 5), vectors(x**n, 5), sp.sin(x))\n",
    "\n",
    "display(a)\n",
    "display(b)\n",
    "\n",
    "a.equals(b)"
   ]
  }
 ],
 "metadata": {
  "kernelspec": {
   "display_name": "Python 3 (ipykernel)",
   "language": "python",
   "name": "python3"
  },
  "language_info": {
   "codemirror_mode": {
    "name": "ipython",
    "version": 3
   },
   "file_extension": ".py",
   "mimetype": "text/x-python",
   "name": "python",
   "nbconvert_exporter": "python",
   "pygments_lexer": "ipython3",
   "version": "3.11.4"
  }
 },
 "nbformat": 4,
 "nbformat_minor": 5
}
