{
 "cells": [
  {
   "cell_type": "markdown",
   "id": "5c4ca16d-0817-44c5-8f6a-da2f87a1d75f",
   "metadata": {},
   "source": [
    "# Matrix of linear forms"
   ]
  },
  {
   "attachments": {},
   "cell_type": "markdown",
   "id": "56a4cbb9-2aaa-41db-8ee7-636e6ee90ec7",
   "metadata": {},
   "source": [
    "# Approximating functions via repeated integration\n",
    "\n",
    "Copyright 2025 Stephan Kulla (\"Kulla\")\n",
    "\n",
    "Licensed under the Apache License, Version 2.0 (the \"Apache License\") and Creative Commons Attribution 4.0 International (the \"CC-BY License\"). You may choose either of these licenses to govern your use of this project.\n",
    "\n",
    "You may obtain a copy of the Apache License at:\n",
    "    http://www.apache.org/licenses/LICENSE-2.0\n",
    "\n",
    "You may obtain a copy of the CC-BY License at:\n",
    "    https://creativecommons.org/licenses/by/4.0/\n",
    "\n",
    "Unless required by applicable law or agreed to in writing, software and content distributed under the Apache License is distributed on an \"AS IS\" BASIS, WITHOUT WARRANTIES OR CONDITIONS OF ANY KIND, either express or implied. See the Apache License for the specific language governing permissions and limitations under the License.\n",
    "\n",
    "Under the CC-BY License, you are free to share and adapt the material provided you give appropriate credit, provide a link to the license, and indicate if changes were made. See the CC-BY License for full details.\n",
    "\n",
    "Third-Party Components and Licenses:\n",
    "This product also includes third-party components which are distributed under their respective licenses. Please refer to the NOTICE file for details.\n",
    "\n",
    "## Utility functions and imports"
   ]
  },
  {
   "cell_type": "code",
   "execution_count": 3,
   "id": "a406b2c0-b7c2-4055-b929-34c359f7b869",
   "metadata": {},
   "outputs": [],
   "source": [
    "%load_ext jupyter_ai_magics"
   ]
  },
  {
   "cell_type": "code",
   "execution_count": 4,
   "id": "5a74b898-aea4-4d1e-9b69-8a94537bdf22",
   "metadata": {},
   "outputs": [],
   "source": [
    "import string\n",
    "import sympy as sp\n",
    "\n",
    "from IPython.display import display, Markdown\n",
    "\n",
    "class LatexFormatter(string.Formatter):\n",
    "    def format_field(self, value, format_spec):\n",
    "        if format_spec == 'tex':\n",
    "            return sp.printing.latex(value)\n",
    "        if format_spec == '$' or format_spec == 'inline':\n",
    "            return \"$\" + sp.printing.latex(value) + \"$\"\n",
    "        elif format_spec == '$$' or format_spec == 'block':\n",
    "            return \"$$\" + sp.printing.latex(value) + \"$$\"\n",
    "        else:\n",
    "            return super().format_field(value, format_spec)\n",
    "\n",
    "def disp_md(template, **kwargs):\n",
    "    display(Markdown(LatexFormatter().format(template, **kwargs)))"
   ]
  },
  {
   "cell_type": "markdown",
   "id": "b3690615-7094-4d1a-9b35-6b619969cfe8",
   "metadata": {},
   "source": [
    "## Definition of inner product and integral form on $C([a,b])$"
   ]
  },
  {
   "cell_type": "code",
   "execution_count": 27,
   "id": "4fa2b718-f11c-43cc-b230-a23ac4d5385c",
   "metadata": {},
   "outputs": [
    {
     "data": {
      "text/latex": [
       "$\\displaystyle \\int\\limits_{0}^{1} f{\\left(x \\right)} g{\\left(x \\right)}\\, dx$"
      ],
      "text/plain": [
       "Integral(f(x)*g(x), (x, 0, 1))"
      ]
     },
     "execution_count": 27,
     "metadata": {},
     "output_type": "execute_result"
    }
   ],
   "source": [
    "from sympy.abc import x\n",
    "\n",
    "def inner_product(f, g, a=0, b=1):\n",
    "    return sp.integrate(f * g, (x, a, b))\n",
    "\n",
    "inner_product(sp.Function(\"f\")(x), sp.Function(\"g\")(x))"
   ]
  },
  {
   "cell_type": "code",
   "execution_count": 14,
   "id": "a7498665-18f5-4d37-b7ab-871d27d05441",
   "metadata": {},
   "outputs": [],
   "source": [
    "# Tests\n",
    "\n",
    "assert inner_product(sp.S(1), sp.S(1)) == sp.S(1)\n",
    "assert inner_product(x, x**2) == sp.S(1) / 4"
   ]
  },
  {
   "cell_type": "code",
   "execution_count": 17,
   "id": "b6dd41f6-0019-43b1-b3cf-51f7982eb3bb",
   "metadata": {},
   "outputs": [],
   "source": [
    "def linear_form(f, a=0, b=1):\n",
    "    def returned_function(g, a=a, b=b):\n",
    "        return inner_product(f, g, a=a, b=b)\n",
    "    return returned_function\n",
    "\n",
    "assert linear_form(x)(x**2) == sp.S(1)/4"
   ]
  },
  {
   "cell_type": "markdown",
   "id": "363c2abb-9515-4f44-832f-b4eee5ca179e",
   "metadata": {},
   "source": [
    "## Calculate an approximation of a function based on linear measures"
   ]
  },
  {
   "cell_type": "markdown",
   "id": "273552fe-3d8c-48e0-97df-2cd72ad0ceb9",
   "metadata": {},
   "source": [
    "Lets assume we have $n$ linear independent measures $M_n$ for (continuious) functions $f: [a,b]\\to \\mathbb R$. Given we have $n$ linear independent base functions $b_k:[a,b]\\to\\mathbb R$.\n",
    "\n",
    "Then we can calculate an approximation $a=\\sum_{k=1}^n c_k b_k$ such that $\\forall k\\in\\{1,2,\\ldots n\\}: M_k(a) = M_k(f)$. This can be reduced to the linear system of equations: $$\\forall j \\in \\{1,2,\\ldots n\\}: \\sum_{i=1}^n c_i M_j(b_i) = M_j(f)$$\n",
    "\n",
    "This can be represented as $M \\vec c = \\vec f$ with $\\vec c = (c_1, \\ldots, c_n)$, $\\vec f = (M_1(f), \\ldots, M_n(f))$ and $M$ is a matrix with $M_ij = M_i(b_j)$. We call $M$ the `matrix_of_linearform`."
   ]
  },
  {
   "cell_type": "code",
   "execution_count": 26,
   "id": "c62ed793-fdd2-48bb-a56c-a7101908963f",
   "metadata": {},
   "outputs": [
    {
     "data": {
      "text/latex": [
       "$\\displaystyle \\left[\\begin{matrix}1 & \\frac{1}{2} & \\frac{1}{3}\\\\\\frac{1}{2} & \\frac{1}{3} & \\frac{1}{4}\\\\\\frac{1}{3} & \\frac{1}{4} & \\frac{1}{5}\\end{matrix}\\right]$"
      ],
      "text/plain": [
       "Matrix([\n",
       "[  1, 1/2, 1/3],\n",
       "[1/2, 1/3, 1/4],\n",
       "[1/3, 1/4, 1/5]])"
      ]
     },
     "execution_count": 26,
     "metadata": {},
     "output_type": "execute_result"
    }
   ],
   "source": [
    "from typing import List, Callable\n",
    "\n",
    "from sympy.abc import n\n",
    "\n",
    "def linear_forms(expr: sp.Expr, n: int):\n",
    "    return [linear_form(expr.subs({\"n\": i})) for i in range(n)]\n",
    "\n",
    "def vectors(expr: sp.Expr, n: int):\n",
    "    return [expr.subs({\"n\": i}) for i in range(n)]\n",
    "\n",
    "def matrix_of_linear_forms(\n",
    "    linear_forms: List[Callable[[sp.Expr], sp.Number]],\n",
    "    vectors: List[sp.Expr]\n",
    ") -> sp.Matrix:\n",
    "    return sp.Matrix([[M(b) for b in vectors] for M in linear_forms])\n",
    "\n",
    "matrix_of_linear_forms(linear_forms(x**n, 3), vectors(x**n, 3))"
   ]
  },
  {
   "cell_type": "code",
   "execution_count": 30,
   "id": "1dd870ea-1221-45af-9cd5-27af89a9f54d",
   "metadata": {},
   "outputs": [
    {
     "data": {
      "text/latex": [
       "$\\displaystyle \\left[\\begin{matrix}1 & 0 & 0 & 0 & 0\\\\0 & 1 & 0 & 0 & 0\\\\0 & 0 & 2 & 0 & 0\\\\0 & 0 & 0 & 6 & 0\\\\0 & 0 & 0 & 0 & 24\\end{matrix}\\right]$"
      ],
      "text/plain": [
       "Matrix([\n",
       "[1, 0, 0, 0,  0],\n",
       "[0, 1, 0, 0,  0],\n",
       "[0, 0, 2, 0,  0],\n",
       "[0, 0, 0, 6,  0],\n",
       "[0, 0, 0, 0, 24]])"
      ]
     },
     "execution_count": 30,
     "metadata": {},
     "output_type": "execute_result"
    }
   ],
   "source": [
    "def derivative(n):\n",
    "    def returned_function(f):\n",
    "        if n == 0:\n",
    "            return f.subs(x, 0)\n",
    "        else:\n",
    "            return sp.diff(f, x, n).subs(x, 0)\n",
    "    return returned_function\n",
    "\n",
    "def derivatives(n):\n",
    "    return [derivative(i) for i in range(n)]\n",
    "\n",
    "matrix_of_linear_forms(derivatives(5), vectors(x**n, 5))"
   ]
  }
 ],
 "metadata": {
  "kernelspec": {
   "display_name": "Python 3 (ipykernel)",
   "language": "python",
   "name": "python3"
  },
  "language_info": {
   "codemirror_mode": {
    "name": "ipython",
    "version": 3
   },
   "file_extension": ".py",
   "mimetype": "text/x-python",
   "name": "python",
   "nbconvert_exporter": "python",
   "pygments_lexer": "ipython3",
   "version": "3.11.4"
  }
 },
 "nbformat": 4,
 "nbformat_minor": 5
}
