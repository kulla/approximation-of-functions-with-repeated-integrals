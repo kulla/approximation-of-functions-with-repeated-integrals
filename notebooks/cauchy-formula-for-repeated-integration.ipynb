{
 "cells": [
  {
   "cell_type": "markdown",
   "id": "a05d48b8-9c4c-46ba-a31d-6c9696ff2471",
   "metadata": {},
   "source": [
    "# Cauchy formula for repeated integration\n",
    "\n",
    "Copyright 2025 Stephan Kulla (\"Kulla\")\n",
    "\n",
    "Licensed under the Apache License, Version 2.0 (the \"Apache License\") and Creative Commons Attribution 4.0 International (the \"CC-BY License\"). You may choose either of these licenses to govern your use of this project.\n",
    "\n",
    "You may obtain a copy of the Apache License at:\n",
    "    http://www.apache.org/licenses/LICENSE-2.0\n",
    "\n",
    "You may obtain a copy of the CC-BY License at:\n",
    "    https://creativecommons.org/licenses/by/4.0/\n",
    "\n",
    "Unless required by applicable law or agreed to in writing, software and content distributed under the Apache License is distributed on an \"AS IS\" BASIS, WITHOUT WARRANTIES OR CONDITIONS OF ANY KIND, either express or implied. See the Apache License for the specific language governing permissions and limitations under the License.\n",
    "\n",
    "Under the CC-BY License, you are free to share and adapt the material provided you give appropriate credit, provide a link to the license, and indicate if changes were made. See the CC-BY License for full details.\n",
    "\n",
    "Third-Party Components and Licenses:\n",
    "This product also includes third-party components which are distributed under their respective licenses. Please refer to the NOTICE file for details."
   ]
  },
  {
   "cell_type": "markdown",
   "id": "87465842-f7b0-4d85-b232-26a91f9e0a6d",
   "metadata": {},
   "source": [
    "## Utility functions and imports"
   ]
  },
  {
   "cell_type": "code",
   "execution_count": 3,
   "id": "a406b2c0-b7c2-4055-b929-34c359f7b869",
   "metadata": {},
   "outputs": [],
   "source": [
    "%load_ext jupyter_ai_magics"
   ]
  },
  {
   "cell_type": "code",
   "execution_count": 4,
   "id": "5a74b898-aea4-4d1e-9b69-8a94537bdf22",
   "metadata": {},
   "outputs": [],
   "source": [
    "import string\n",
    "import sympy as sp\n",
    "\n",
    "from IPython.display import display, Markdown\n",
    "\n",
    "class LatexFormatter(string.Formatter):\n",
    "    def format_field(self, value, format_spec):\n",
    "        if format_spec == 'tex':\n",
    "            return sp.printing.latex(value)\n",
    "        if format_spec == '$' or format_spec == 'inline':\n",
    "            return \"$\" + sp.printing.latex(value) + \"$\"\n",
    "        elif format_spec == '$$' or format_spec == 'block':\n",
    "            return \"$$\" + sp.printing.latex(value) + \"$$\"\n",
    "        else:\n",
    "            return super().format_field(value, format_spec)\n",
    "\n",
    "def disp_md(template, **kwargs):\n",
    "    display(Markdown(LatexFormatter().format(template, **kwargs)))"
   ]
  },
  {
   "cell_type": "markdown",
   "id": "938b190f-7798-455e-830b-ac3c0dc6f6fb",
   "metadata": {},
   "source": [
    "## $n$th Antiderivative\n",
    "\n",
    "Calculating the antiderivative $F_n$ which is defined as $F_0(x) = \\int_a^x f(t)\\,\\mathrm{d} t$ and $F_{n+1}(x) = \\int_a^x F_n(t) \\mathrm dt$.\n",
    "\n",
    "Note: The notation differs from the notation which is used in the [Wikipedia article \"Cauchy formula for repeated integration\"](https://en.wikipedia.org/wiki/Cauchy_formula_for_repeated_integration) which uses $f^{(-n)}$ for the nth antiderivative / nth repeated integral. We have $F_{n+1} = f^{(-n)}$."
   ]
  },
  {
   "cell_type": "code",
   "execution_count": 23,
   "id": "d9a6d852-27fa-47c9-b757-decf439f50e8",
   "metadata": {},
   "outputs": [],
   "source": [
    "x, a, b = sp.symbols(\"x a b\")\n",
    "\n",
    "# Define the first antidervative F_0\n",
    "def antiderivative(f, a, b, x=x):\n",
    "    return sp.integrate(f, (x, a, b))\n",
    "\n",
    "assert antiderivative(x, a, b) == (b**2-a**2)/2\n",
    "assert antiderivative(x**2, 0, 1) == sp.Integer(1)/3\n",
    "assert antiderivative(sp.exp(x), a, b) == sp.exp(b) - sp.exp(a)\n",
    "\n",
    "def repeated_antiderivative(n, f, a, b, x=x):\n",
    "    if n < 0:\n",
    "        raise TypeError(\"n must be greater than or equal to zero\")\n",
    "\n",
    "    result = f\n",
    "    \n",
    "    for i in range(n+1):\n",
    "        result = antiderivative(result, a, b if i == n else x, x=x)\n",
    "\n",
    "    return result\n",
    "\n",
    "# Initial value\n",
    "assert repeated_antiderivative(0, sp.sin(x), a, b) == antiderivative(sp.sin(x), a, b)\n",
    "assert repeated_antiderivative(0, x, a, b) == b**2/2 - a**2/2\n",
    "assert repeated_antiderivative(0, sp.exp(x), a, b) == antiderivative(sp.exp(x), a, b)\n",
    "\n",
    "# Next value\n",
    "assert repeated_antiderivative(1, x, a, b).equals(b**3/6 - a**3/6 - a**2/2 * (b-a))\n",
    "assert repeated_antiderivative(1, sp.exp(x), a, b).equals(sp.exp(b)+sp.exp(a)*(a-b-1))\n",
    "\n",
    "# Higher value\n",
    "assert repeated_antiderivative(2, x, 0, b) == b**4/24"
   ]
  }
 ],
 "metadata": {
  "kernelspec": {
   "display_name": "Python 3 (ipykernel)",
   "language": "python",
   "name": "python3"
  },
  "language_info": {
   "codemirror_mode": {
    "name": "ipython",
    "version": 3
   },
   "file_extension": ".py",
   "mimetype": "text/x-python",
   "name": "python",
   "nbconvert_exporter": "python",
   "pygments_lexer": "ipython3",
   "version": "3.11.4"
  }
 },
 "nbformat": 4,
 "nbformat_minor": 5
}
